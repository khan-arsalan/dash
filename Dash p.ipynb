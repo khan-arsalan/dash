{
 "cells": [
  {
   "cell_type": "code",
   "execution_count": 2,
   "id": "3e1978a0",
   "metadata": {},
   "outputs": [
    {
     "name": "stderr",
     "output_type": "stream",
     "text": [
      "C:\\Users\\dt\\AppData\\Local\\Temp\\ipykernel_1400\\954449312.py:2: UserWarning: \n",
      "The dash_core_components package is deprecated. Please replace\n",
      "`import dash_core_components as dcc` with `from dash import dcc`\n",
      "  import dash_core_components as dcc\n",
      "C:\\Users\\dt\\AppData\\Local\\Temp\\ipykernel_1400\\954449312.py:3: UserWarning: \n",
      "The dash_html_components package is deprecated. Please replace\n",
      "`import dash_html_components as html` with `from dash import html`\n",
      "  import dash_html_components as html\n"
     ]
    }
   ],
   "source": [
    "import dash\n",
    "import dash_core_components as dcc\n",
    "import dash_html_components as html"
   ]
  },
  {
   "cell_type": "code",
   "execution_count": 3,
   "id": "e2fc95c6",
   "metadata": {},
   "outputs": [],
   "source": [
    "app = dash.Dash()"
   ]
  },
  {
   "cell_type": "code",
   "execution_count": 5,
   "id": "40f07ba1",
   "metadata": {},
   "outputs": [
    {
     "data": {
      "text/plain": [
       "dash.dash.Dash"
      ]
     },
     "execution_count": 5,
     "metadata": {},
     "output_type": "execute_result"
    }
   ],
   "source": [
    "type(app)"
   ]
  },
  {
   "cell_type": "code",
   "execution_count": 28,
   "id": "1c0c3338",
   "metadata": {},
   "outputs": [
    {
     "data": {
      "text/html": [
       "\n",
       "        <iframe\n",
       "            width=\"100%\"\n",
       "            height=\"650\"\n",
       "            src=\"http://127.0.0.1:4050/\"\n",
       "            frameborder=\"0\"\n",
       "            allowfullscreen\n",
       "            \n",
       "        ></iframe>\n",
       "        "
      ],
      "text/plain": [
       "<IPython.lib.display.IFrame at 0x1dd4de55f10>"
      ]
     },
     "metadata": {},
     "output_type": "display_data"
    }
   ],
   "source": [
    "if __name__ == '__main__':\n",
    "    app.run_server(port = 4050)"
   ]
  },
  {
   "cell_type": "code",
   "execution_count": 41,
   "id": "9e42d217",
   "metadata": {},
   "outputs": [],
   "source": [
    "app.layout = html.Div([\n",
    "    html.H1(children='WESTINGHOUSE ANNUAL SALES DATA',\n",
    "           style={'textAlign':'center'}\n",
    "           \n",
    "           ),\n",
    "    html.Div('Dash! A product of Plotly'),\n",
    "    \n",
    "    dcc.Graph(\n",
    "        id='simplechart',\n",
    "        figure={\n",
    "            'data': [\n",
    "                {'x': [5, 6, 7, 9, 13], 'y': [12, 23, 65, 67, 86], 'type': 'line'},\n",
    "                {'x': [3, 4, 5, 7, 18], 'y': [22, 26, 60, 55, 46], 'type': 'line'},\n",
    "\n",
    "            ],\n",
    "            'layout': {\n",
    "                'title': 'Simple Bar Chart'\n",
    "            }\n",
    "        }\n",
    "    )\n",
    "])\n"
   ]
  },
  {
   "cell_type": "code",
   "execution_count": 43,
   "id": "18ba680a",
   "metadata": {},
   "outputs": [
    {
     "data": {
      "text/html": [
       "\n",
       "        <iframe\n",
       "            width=\"100%\"\n",
       "            height=\"650\"\n",
       "            src=\"http://127.0.0.1:8050/\"\n",
       "            frameborder=\"0\"\n",
       "            allowfullscreen\n",
       "            \n",
       "        ></iframe>\n",
       "        "
      ],
      "text/plain": [
       "<IPython.lib.display.IFrame at 0x1dd4e26bdf0>"
      ]
     },
     "metadata": {},
     "output_type": "display_data"
    }
   ],
   "source": [
    "app.run_server()"
   ]
  },
  {
   "cell_type": "code",
   "execution_count": 49,
   "id": "3feb60c3",
   "metadata": {},
   "outputs": [],
   "source": [
    "import numpy as np\n",
    "import plotly.graph_objs as go"
   ]
  },
  {
   "cell_type": "code",
   "execution_count": 62,
   "id": "d3478484",
   "metadata": {},
   "outputs": [],
   "source": [
    "x_rand = np.random.randint(1,61,60)\n",
    "y_rand = np.random.randint(1,61,60)"
   ]
  },
  {
   "cell_type": "code",
   "execution_count": 63,
   "id": "ac959ed6",
   "metadata": {},
   "outputs": [
    {
     "data": {
      "text/plain": [
       "array([56, 54, 54,  7, 42, 15, 60, 36, 20,  1,  7, 22, 58, 16, 50, 46, 43,\n",
       "       10,  2, 59, 17, 19, 58, 55, 39,  8, 34, 54,  6, 14,  2, 14, 16, 16,\n",
       "       15, 26,  9, 21, 53, 32,  3, 53,  6, 32, 17, 60,  1,  1, 28, 32, 19,\n",
       "       22, 28, 43, 23, 35, 33,  3, 47,  8])"
      ]
     },
     "execution_count": 63,
     "metadata": {},
     "output_type": "execute_result"
    }
   ],
   "source": [
    "x_rand"
   ]
  },
  {
   "cell_type": "code",
   "execution_count": 64,
   "id": "e434587e",
   "metadata": {},
   "outputs": [],
   "source": [
    "app.layout = html.Div([\n",
    "    html.H1(children='WESTINGHOUSE',\n",
    "           style={'textAlign':'center'}\n",
    "           \n",
    "           ),\n",
    "    html.Div(children='MV LV Products', \n",
    "            style={'textAlign':'center'}\n",
    "),\n",
    "    \n",
    "    dcc.Graph(\n",
    "        id='scatter_chart',\n",
    "        figure={\n",
    "            'data': [\n",
    "                go.Scatter(x=x_rand,y=y_rand,mode='markers')\n",
    "            ],\n",
    "            'layout': {\n",
    "                'title': 'Annual Sale Scatter Graph',\n",
    "                'xaxis': {'title': 'Quantity'},\n",
    "                'yaxis': {'title': 'Sales'}\n",
    "            }\n",
    "        }\n",
    "    )\n",
    "])\n"
   ]
  },
  {
   "cell_type": "code",
   "execution_count": 65,
   "id": "660527ba",
   "metadata": {},
   "outputs": [
    {
     "data": {
      "text/html": [
       "\n",
       "        <iframe\n",
       "            width=\"100%\"\n",
       "            height=\"650\"\n",
       "            src=\"http://127.0.0.1:8050/\"\n",
       "            frameborder=\"0\"\n",
       "            allowfullscreen\n",
       "            \n",
       "        ></iframe>\n",
       "        "
      ],
      "text/plain": [
       "<IPython.lib.display.IFrame at 0x1dd5627bb80>"
      ]
     },
     "metadata": {},
     "output_type": "display_data"
    }
   ],
   "source": [
    "app.run_server()"
   ]
  },
  {
   "cell_type": "code",
   "execution_count": 66,
   "id": "c1f234ee",
   "metadata": {},
   "outputs": [],
   "source": [
    "import pandas as pd"
   ]
  },
  {
   "cell_type": "code",
   "execution_count": 78,
   "id": "5da9a667",
   "metadata": {},
   "outputs": [],
   "source": [
    "df = pd.read_csv('USA_Housing.csv')"
   ]
  },
  {
   "cell_type": "code",
   "execution_count": 79,
   "id": "931e4769",
   "metadata": {},
   "outputs": [
    {
     "data": {
      "text/html": [
       "<div>\n",
       "<style scoped>\n",
       "    .dataframe tbody tr th:only-of-type {\n",
       "        vertical-align: middle;\n",
       "    }\n",
       "\n",
       "    .dataframe tbody tr th {\n",
       "        vertical-align: top;\n",
       "    }\n",
       "\n",
       "    .dataframe thead th {\n",
       "        text-align: right;\n",
       "    }\n",
       "</style>\n",
       "<table border=\"1\" class=\"dataframe\">\n",
       "  <thead>\n",
       "    <tr style=\"text-align: right;\">\n",
       "      <th></th>\n",
       "      <th>Avg. Area Income</th>\n",
       "      <th>Avg. Area House Age</th>\n",
       "      <th>Avg. Area Number of Rooms</th>\n",
       "      <th>Avg. Area Number of Bedrooms</th>\n",
       "      <th>Area Population</th>\n",
       "      <th>Price</th>\n",
       "      <th>Address</th>\n",
       "    </tr>\n",
       "  </thead>\n",
       "  <tbody>\n",
       "    <tr>\n",
       "      <th>0</th>\n",
       "      <td>79545.458574</td>\n",
       "      <td>5.682861</td>\n",
       "      <td>7.009188</td>\n",
       "      <td>4.09</td>\n",
       "      <td>23086.800503</td>\n",
       "      <td>1.059034e+06</td>\n",
       "      <td>208 Michael Ferry Apt. 674\\nLaurabury, NE 3701...</td>\n",
       "    </tr>\n",
       "    <tr>\n",
       "      <th>1</th>\n",
       "      <td>79248.642455</td>\n",
       "      <td>6.002900</td>\n",
       "      <td>6.730821</td>\n",
       "      <td>3.09</td>\n",
       "      <td>40173.072174</td>\n",
       "      <td>1.505891e+06</td>\n",
       "      <td>188 Johnson Views Suite 079\\nLake Kathleen, CA...</td>\n",
       "    </tr>\n",
       "    <tr>\n",
       "      <th>2</th>\n",
       "      <td>61287.067179</td>\n",
       "      <td>5.865890</td>\n",
       "      <td>8.512727</td>\n",
       "      <td>5.13</td>\n",
       "      <td>36882.159400</td>\n",
       "      <td>1.058988e+06</td>\n",
       "      <td>9127 Elizabeth Stravenue\\nDanieltown, WI 06482...</td>\n",
       "    </tr>\n",
       "    <tr>\n",
       "      <th>3</th>\n",
       "      <td>63345.240046</td>\n",
       "      <td>7.188236</td>\n",
       "      <td>5.586729</td>\n",
       "      <td>3.26</td>\n",
       "      <td>34310.242831</td>\n",
       "      <td>1.260617e+06</td>\n",
       "      <td>USS Barnett\\nFPO AP 44820</td>\n",
       "    </tr>\n",
       "    <tr>\n",
       "      <th>4</th>\n",
       "      <td>59982.197226</td>\n",
       "      <td>5.040555</td>\n",
       "      <td>7.839388</td>\n",
       "      <td>4.23</td>\n",
       "      <td>26354.109472</td>\n",
       "      <td>6.309435e+05</td>\n",
       "      <td>USNS Raymond\\nFPO AE 09386</td>\n",
       "    </tr>\n",
       "  </tbody>\n",
       "</table>\n",
       "</div>"
      ],
      "text/plain": [
       "   Avg. Area Income  Avg. Area House Age  Avg. Area Number of Rooms  \\\n",
       "0      79545.458574             5.682861                   7.009188   \n",
       "1      79248.642455             6.002900                   6.730821   \n",
       "2      61287.067179             5.865890                   8.512727   \n",
       "3      63345.240046             7.188236                   5.586729   \n",
       "4      59982.197226             5.040555                   7.839388   \n",
       "\n",
       "   Avg. Area Number of Bedrooms  Area Population         Price  \\\n",
       "0                          4.09     23086.800503  1.059034e+06   \n",
       "1                          3.09     40173.072174  1.505891e+06   \n",
       "2                          5.13     36882.159400  1.058988e+06   \n",
       "3                          3.26     34310.242831  1.260617e+06   \n",
       "4                          4.23     26354.109472  6.309435e+05   \n",
       "\n",
       "                                             Address  \n",
       "0  208 Michael Ferry Apt. 674\\nLaurabury, NE 3701...  \n",
       "1  188 Johnson Views Suite 079\\nLake Kathleen, CA...  \n",
       "2  9127 Elizabeth Stravenue\\nDanieltown, WI 06482...  \n",
       "3                          USS Barnett\\nFPO AP 44820  \n",
       "4                         USNS Raymond\\nFPO AE 09386  "
      ]
     },
     "execution_count": 79,
     "metadata": {},
     "output_type": "execute_result"
    }
   ],
   "source": [
    "df.head()"
   ]
  },
  {
   "cell_type": "code",
   "execution_count": 96,
   "id": "bff5afda",
   "metadata": {},
   "outputs": [],
   "source": [
    "app.layout = html.Div([\n",
    "    html.H1(children='WESTINGHOUSE',\n",
    "           style={'textAlign':'center'}\n",
    "           \n",
    "           ),\n",
    "    html.Div(children='MV LV Products', \n",
    "            style={'textAlign':'center'}\n",
    "),\n",
    "    \n",
    "    dcc.Graph(\n",
    "        id='scatter_chart',\n",
    "        figure={\n",
    "            'data': [\n",
    "                go.Scatter(x=df['Avg. Area House Age'],y=df['Avg. Area Income'],mode='markers')\n",
    "            ],\n",
    "            'layout': {\n",
    "                'title': 'Annual Sale Scatter Graph',\n",
    "                'xaxis': {'title': 'Quantity'},\n",
    "                'yaxis': {'title': 'Sales'}\n",
    "            }\n",
    "        }\n",
    "    )\n",
    "])\n"
   ]
  },
  {
   "cell_type": "code",
   "execution_count": 99,
   "id": "ebd37949",
   "metadata": {},
   "outputs": [
    {
     "data": {
      "text/plain": [
       "<bound method Dash.run_server of <dash.dash.Dash object at 0x000001DD4EB26FA0>>"
      ]
     },
     "execution_count": 99,
     "metadata": {},
     "output_type": "execute_result"
    }
   ],
   "source": [
    "app.run_server"
   ]
  },
  {
   "cell_type": "code",
   "execution_count": 156,
   "id": "d9d2881d",
   "metadata": {},
   "outputs": [],
   "source": [
    "app.layout = html.Div([\n",
    "    html.Label('Enter your Name: '),\n",
    "    dcc.Input(placeholder='Name',\n",
    "              type='text',\n",
    "              value = ''\n",
    "    \n",
    "    ),\n",
    "    html.Br(),\n",
    "    html.Label('Chose Your City'),\n",
    "\n",
    "    dcc.Dropdown(\n",
    "    id = 'first-dropdown',\n",
    "    options = [\n",
    "        {'label' : 'Karachi', 'value':'khi'},\n",
    "        {'label' : 'Lahore', 'value':'lhr'},\n",
    "        {'label' : 'Islamabad', 'value':'isb'}\n",
    "    ],\n",
    "        #value = 'khi', \n",
    "        placeholder = 'Select a city'\n",
    "        #multi = True\n",
    "    ),\n",
    "    html.Label('Sex: '),\n",
    "    dcc.RadioItems(\n",
    "        options = [\n",
    "        {'label' : 'Male', 'value':'m'},\n",
    "        {'label' : 'Female', 'value':'f'},\n",
    "    ]\n",
    "    \n",
    "    ),\n",
    "        html.Label('Sports: '),\n",
    "    dcc.Checklist(\n",
    "        options = [\n",
    "        {'label' : 'Cricket', 'value':'cr'},\n",
    "        {'label' : 'Football', 'value':'fb'},\n",
    "        {'label' : 'Hocky', 'value':'hc'}\n",
    "    ]\n",
    "    \n",
    "    )\n",
    "    \n",
    "]\n",
    "\n",
    ")"
   ]
  },
  {
   "cell_type": "code",
   "execution_count": 157,
   "id": "4baf4e46",
   "metadata": {},
   "outputs": [
    {
     "data": {
      "text/plain": [
       "<bound method Dash.run_server of <dash.dash.Dash object at 0x000001DD4EB26FA0>>"
      ]
     },
     "execution_count": 157,
     "metadata": {},
     "output_type": "execute_result"
    }
   ],
   "source": [
    "app.run_server"
   ]
  },
  {
   "cell_type": "code",
   "execution_count": null,
   "id": "895aae35",
   "metadata": {},
   "outputs": [],
   "source": []
  }
 ],
 "metadata": {
  "kernelspec": {
   "display_name": "Python 3 (ipykernel)",
   "language": "python",
   "name": "python3"
  },
  "language_info": {
   "codemirror_mode": {
    "name": "ipython",
    "version": 3
   },
   "file_extension": ".py",
   "mimetype": "text/x-python",
   "name": "python",
   "nbconvert_exporter": "python",
   "pygments_lexer": "ipython3",
   "version": "3.9.13"
  }
 },
 "nbformat": 4,
 "nbformat_minor": 5
}
